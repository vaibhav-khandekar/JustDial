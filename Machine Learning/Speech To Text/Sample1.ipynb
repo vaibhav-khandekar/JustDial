{
 "cells": [
  {
   "cell_type": "code",
   "execution_count": 2,
   "id": "c406a59b",
   "metadata": {},
   "outputs": [],
   "source": [
    "import speech_recognition as sr"
   ]
  },
  {
   "cell_type": "code",
   "execution_count": 7,
   "id": "92601985",
   "metadata": {},
   "outputs": [
    {
     "name": "stdout",
     "output_type": "stream",
     "text": [
      "Transcribed Text: hello hello good morning status recording customer\n"
     ]
    }
   ],
   "source": [
    "def transcribe_audio(audio_file):\n",
    "    recognizer = sr.Recognizer()\n",
    "\n",
    "    # Load audio file\n",
    "    with sr.AudioFile(audio_file) as source:\n",
    "        audio_data = recognizer.record(source)\n",
    "\n",
    "    # Recognize speech using Google Speech Recognition\n",
    "    try:\n",
    "        text = recognizer.recognize_google(audio_data)\n",
    "        return text\n",
    "    except sr.UnknownValueError:\n",
    "        print(\"Google Speech Recognition could not understand the audio.\")\n",
    "    except sr.RequestError as e:\n",
    "        print(f\"Could not request results from Google Speech Recognition service; {e}\")\n",
    "\n",
    "if __name__ == \"__main__\":\n",
    "    audio_file = \"/home/justdial/Downloads/PX288.X288.210902112757.P7L9.wav\"  # Replace with your audio file path\n",
    "    transcribed_text = transcribe_audio(audio_file)\n",
    "    print(\"Transcribed Text:\", transcribed_text)"
   ]
  },
  {
   "cell_type": "code",
   "execution_count": null,
   "id": "e771bc8b",
   "metadata": {},
   "outputs": [],
   "source": []
  }
 ],
 "metadata": {
  "kernelspec": {
   "display_name": "Python 3",
   "language": "python",
   "name": "python3"
  },
  "language_info": {
   "codemirror_mode": {
    "name": "ipython",
    "version": 3
   },
   "file_extension": ".py",
   "mimetype": "text/x-python",
   "name": "python",
   "nbconvert_exporter": "python",
   "pygments_lexer": "ipython3",
   "version": "3.8.8"
  }
 },
 "nbformat": 4,
 "nbformat_minor": 5
}

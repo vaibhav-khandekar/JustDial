{
 "cells": [
  {
   "cell_type": "code",
   "execution_count": 7,
   "id": "1ab28a54",
   "metadata": {},
   "outputs": [],
   "source": [
    "import assemblyai as aai\n",
    "import os"
   ]
  },
  {
   "cell_type": "markdown",
   "id": "e2c6c4fa",
   "metadata": {},
   "source": [
    "### Speech to Text conversion"
   ]
  },
  {
   "cell_type": "code",
   "execution_count": 9,
   "id": "42bb4df9",
   "metadata": {},
   "outputs": [],
   "source": [
    "aai.settings.api_key = \"your api key\" # not working"
   ]
  },
  {
   "cell_type": "code",
   "execution_count": 19,
   "id": "a7e983a3",
   "metadata": {},
   "outputs": [],
   "source": [
    "audio_url = '/home/justdial/Downloads/audios/'"
   ]
  },
  {
   "cell_type": "code",
   "execution_count": 11,
   "id": "6bd9f938",
   "metadata": {},
   "outputs": [],
   "source": [
    "config=aai.TranscriptionConfig(language_code='hi')"
   ]
  },
  {
   "cell_type": "code",
   "execution_count": 15,
   "id": "e344c292",
   "metadata": {},
   "outputs": [],
   "source": [
    "def my_func(audio_url):\n",
    "    # secret API\n",
    "    config=aai.TranscriptionConfig(language_code='hi')\n",
    "    transcriber = aai.Transcriber(config=config)\n",
    "    transcript = transcriber.transcribe(audio_url)\n",
    "    text=transcript.text\n",
    "    return text"
   ]
  },
  {
   "cell_type": "code",
   "execution_count": 17,
   "id": "4acd12a1",
   "metadata": {},
   "outputs": [
    {
     "name": "stdout",
     "output_type": "stream",
     "text": [
      "हेलो हेलो हेलो हेलो गुड मार्निंग सर मुरली धर पैकेसनमकेओनरसी बात राहुल टूल क्या है अच्छा अच्छा मतलब मार्केटिंग रिगार्डिंग क्वालि कॉल किया है कॉल किया हाँ तो बिजनेस मिलेगा सर आपको क्यूंकी मैं को टूर सेंट्रल की बात कर काफी सारे कस्टमर के जाते है ठीक है नहीं अभी कॉल है वो भी प्री लिस्टिंग में है ठीक जब आप पेड प्रमोशन जाल सिर आपका जो प्रोफाइल है वो जाल भी थ्री लिस्टेड है बरोबर अभी आप इसमें पेड प्रमोशन कर चार्ज करते ार्टहोताइनक्वारीज मिलना स्टार्ट हो जाती है। बरोबर और जामनगर में बात करूँ तो टूर उसमे काफी सारे कस्टमर के आते हैं। सर और साल की बात तो हमारे पास ऑपरेटर टूर ऑपरेटर की मैं बात करूँ। जामनगर में हमारे पास आती है 1600 के आस पास है इस में क्या रहेगा हम आपके बिजनेस की प्रोफाइल बनायेंगे जहाँ फैसिलिटी रहेगा। बरोबर यह क्या है प्लस 10 साल की और से वेरिफाइड का काम पायेगा जिससे कस्टमर को भी ट्रस्ट हो। आपका वेरिफाइड है अभी जो ऑफर में सदर रहा है पैकेट जो रहेगा नॉर्मल आपका डाउन स्टार्ट कर सकते हो। आप बरोबर कितना रो गया सिर जामनगर सिटी तो आपका नॉर्मल अमाउंट आयेगा मैं आपको बता देता हूँ आप 35 सौ, 40 का, 2 का और 1770 का आपका मन रहेगा पहला कटेगा सर्विस चालू हो जाएगी अगर आपको मीटिंग का टाइम 2 पैकेज अच्छा लगता है फाइनल करवा दी जो एड्रेस क्या रहेगा सिर नियरअमेजमेंट पार्क कोरियर कॉलेज ये वाला है हाँ ये वाला है तो मतलब कितने बजे भेजना है 6 बजे के बाद ठीक है। 4 बजे के बाद भेजा आप मिलोगे न मतलब एड्ड्रेस ड्रेस का कोई इशु हुआ तो ठीक ठीक है ठीक है भेज थैंक यू।\n"
     ]
    }
   ],
   "source": [
    "print(my_func(audio_url))"
   ]
  },
  {
   "cell_type": "code",
   "execution_count": 26,
   "id": "2dc744eb",
   "metadata": {},
   "outputs": [
    {
     "name": "stdout",
     "output_type": "stream",
     "text": [
      "हेलो हेलो हेलो हेलो गुड मार्निंग सर मुरली धर पैकेसनमकेओनरसी बात राहुल टूल क्या है अच्छा अच्छा मतलब मार्केटिंग रिगार्डिंग क्वालि कॉल किया है कॉल किया हाँ तो बिजनेस मिलेगा सर आपको क्यूंकी मैं को टूर सेंट्रल की बात कर काफी सारे कस्टमर के जाते है ठीक है नहीं अभी कॉल है वो भी प्री लिस्टिंग में है ठीक जब आप पेड प्रमोशन जाल सिर आपका जो प्रोफाइल है वो जाल भी थ्री लिस्टेड है बरोबर अभी आप इसमें पेड प्रमोशन कर चार्ज करते ार्टहोताइनक्वारीज मिलना स्टार्ट हो जाती है। बरोबर और जामनगर में बात करूँ तो टूर उसमे काफी सारे कस्टमर के आते हैं। सर और साल की बात तो हमारे पास ऑपरेटर टूर ऑपरेटर की मैं बात करूँ। जामनगर में हमारे पास आती है 1600 के आस पास है इस में क्या रहेगा हम आपके बिजनेस की प्रोफाइल बनायेंगे जहाँ फैसिलिटी रहेगा। बरोबर यह क्या है प्लस 10 साल की और से वेरिफाइड का काम पायेगा जिससे कस्टमर को भी ट्रस्ट हो। आपका वेरिफाइड है अभी जो ऑफर में सदर रहा है पैकेट जो रहेगा नॉर्मल आपका डाउन स्टार्ट कर सकते हो। आप बरोबर कितना रो गया सिर जामनगर सिटी तो आपका नॉर्मल अमाउंट आयेगा मैं आपको बता देता हूँ आप 35 सौ, 40 का, 2 का और 1770 का आपका मन रहेगा पहला कटेगा सर्विस चालू हो जाएगी अगर आपको मीटिंग का टाइम 2 पैकेज अच्छा लगता है फाइनल करवा दी जो एड्रेस क्या रहेगा सिर नियरअमेजमेंट पार्क कोरियर कॉलेज ये वाला है हाँ ये वाला है तो मतलब कितने बजे भेजना है 6 बजे के बाद ठीक है। 4 बजे के बाद भेजा आप मिलोगे न मतलब एड्ड्रेस ड्रेस का कोई इशु हुआ तो ठीक ठीक है ठीक है भेज थैंक यू।\n"
     ]
    }
   ],
   "source": [
    "for i in os.listdir(audio_url):\n",
    "    if i.endswith(\".wav\"):\n",
    "        audio_path = os.path.join(audio_url,i)\n",
    "        print(my_func(audio_path))"
   ]
  },
  {
   "cell_type": "code",
   "execution_count": null,
   "id": "c3ef19b4",
   "metadata": {},
   "outputs": [],
   "source": []
  },
  {
   "cell_type": "code",
   "execution_count": 34,
   "id": "a3ddb310",
   "metadata": {},
   "outputs": [],
   "source": [
    "def my_func2(audio_path):\n",
    "    # secret API\n",
    "    config=aai.TranscriptionConfig(language_code='hi')\n",
    "    transcriber = aai.Transcriber(config=config)\n",
    "    transcript = transcriber.transcribe(audio_path)\n",
    "    text=transcript.text\n",
    "    \n",
    "    # output file in txt\n",
    "    text_file = os.path.join(audio_url, os.path.splitext(file)[0] + \".txt\")\n",
    "    with open(text_file, \"w\") as f:\n",
    "        f.write(text)"
   ]
  },
  {
   "cell_type": "code",
   "execution_count": 35,
   "id": "ee552e88",
   "metadata": {},
   "outputs": [],
   "source": [
    "for file in os.listdir(audio_url):\n",
    "    if file.endswith(\".wav\"):\n",
    "        audio_path = os.path.join(audio_url,file)\n",
    "        my_func2(audio_path)\n",
    "        \n",
    "        "
   ]
  },
  {
   "cell_type": "code",
   "execution_count": null,
   "id": "b97a0677",
   "metadata": {},
   "outputs": [],
   "source": []
  },
  {
   "cell_type": "code",
   "execution_count": null,
   "id": "be6e5e4c",
   "metadata": {},
   "outputs": [],
   "source": [
    "text_path = os.path.join(audio_url, os.path.splitext(i)[0] + \".txt\")\n",
    "        "
   ]
  }
 ],
 "metadata": {
  "kernelspec": {
   "display_name": "Python 3",
   "language": "python",
   "name": "python3"
  },
  "language_info": {
   "codemirror_mode": {
    "name": "ipython",
    "version": 3
   },
   "file_extension": ".py",
   "mimetype": "text/x-python",
   "name": "python",
   "nbconvert_exporter": "python",
   "pygments_lexer": "ipython3",
   "version": "3.8.8"
  }
 },
 "nbformat": 4,
 "nbformat_minor": 5
}
